{
  "nbformat": 4,
  "nbformat_minor": 0,
  "metadata": {
    "colab": {
      "name": "ResUNet.ipynb",
      "provenance": [],
      "collapsed_sections": []
    },
    "kernelspec": {
      "name": "python3",
      "display_name": "Python 3"
    },
    "accelerator": "GPU"
  },
  "cells": [
    {
      "cell_type": "code",
      "metadata": {
        "colab": {
          "base_uri": "https://localhost:8080/"
        },
        "id": "lk0LPLD2zy8K",
        "outputId": "00632add-4aff-430f-c43d-584306864595"
      },
      "source": [
        "from google.colab import drive\n",
        "drive.mount('/content/drive')"
      ],
      "execution_count": 1,
      "outputs": [
        {
          "output_type": "stream",
          "text": [
            "Drive already mounted at /content/drive; to attempt to forcibly remount, call drive.mount(\"/content/drive\", force_remount=True).\n"
          ],
          "name": "stdout"
        }
      ]
    },
    {
      "cell_type": "code",
      "metadata": {
        "colab": {
          "base_uri": "https://localhost:8080/"
        },
        "id": "giyIa8LsT_C1",
        "outputId": "cfc570f4-bb3e-458c-978b-4b371829da4a"
      },
      "source": [
        "%cd '/content/drive/My Drive/SemSeg'"
      ],
      "execution_count": 2,
      "outputs": [
        {
          "output_type": "stream",
          "text": [
            "/content/drive/My Drive/SemSeg\n"
          ],
          "name": "stdout"
        }
      ]
    },
    {
      "cell_type": "code",
      "metadata": {
        "id": "XVdRhU50k-fI"
      },
      "source": [
        "#!unzip archive.zip"
      ],
      "execution_count": 3,
      "outputs": []
    },
    {
      "cell_type": "code",
      "metadata": {
        "id": "MTVs6DGcz7LX"
      },
      "source": [
        "import cv2\n",
        "import numpy as np\n",
        "import matplotlib.pyplot as plt\n",
        "import os\n",
        "import torch\n",
        "import torch.nn as nn\n",
        "import torch.nn.functional as F\n",
        "import torchvision\n",
        "from torchvision import transforms\n",
        "import torch.utils.data as data\n",
        "import torch.optim as optim\n",
        "from torch.utils.data import Dataset, DataLoader\n",
        "from scipy import ndimage\n",
        "#from dataloader import *\n",
        "#from utils import *\n",
        "#from models.unet import *\n",
        "from torchvision import models\n",
        "from torchsummary import summary"
      ],
      "execution_count": 55,
      "outputs": []
    },
    {
      "cell_type": "code",
      "metadata": {
        "id": "3E6StwkU0Myy"
      },
      "source": [
        "def c2g(colors, grayscale):\n",
        "  c2g = []\n",
        "  for color in colors:\n",
        "    color = np.reshape(color, (1,1,3))\n",
        "    if grayscale:\n",
        "      gray = cv2.cvtColor(color, cv2.COLOR_BGR2GRAY)\n",
        "    else:\n",
        "      gray = color\n",
        "    c2g.append(gray)\n",
        "  return c2g\n",
        "# Pixel classes\n",
        "colors = np.array([[0,0,0], [111,74,0], [81,0,81], [128,64,128], [244, 35, 232]\n",
        "                   ,[250, 170, 160], [230, 150, 140], [70,70,70], [102,102, 156]\n",
        "                   , [190, 153, 153], [180, 165, 180], [150, 100, 100]\n",
        "                   , [150, 120, 90], [153, 153, 153], [250, 170, 30], [220, 220, 0]\n",
        "                   , [107, 142, 35], [152, 251, 152], [70, 130, 180], [220, 20, 60]\n",
        "                   , [255, 0, 0], [0, 0, 142], [0, 0, 70], [0, 60, 100], [0, 0, 90]\n",
        "                   , [0, 0, 110], [0, 80, 100], [0, 0, 230], [119, 11, 32], [0, 0, 142]], dtype = np.uint8)\n",
        "colors = c2g(colors, grayscale = True)"
      ],
      "execution_count": 56,
      "outputs": []
    },
    {
      "cell_type": "code",
      "metadata": {
        "id": "pPW1D0Rp0dzQ"
      },
      "source": [
        "# Perform Data Loading\n",
        "\n",
        "transform_img = transforms.Compose([transforms.ToTensor(),\n",
        "                                    transforms.Normalize(mean=[0.485, 0.456, 0.406],std=[0.229, 0.224, 0.225])])\n",
        "transform_label = transforms.Compose([transforms.ToTensor()])"
      ],
      "execution_count": 57,
      "outputs": []
    },
    {
      "cell_type": "code",
      "metadata": {
        "colab": {
          "base_uri": "https://localhost:8080/",
          "height": 35
        },
        "id": "WD3L9I1ITtUD",
        "outputId": "0bc3e8a0-11f1-48d1-f03b-992ea3b83b69"
      },
      "source": [
        "os.getcwd()"
      ],
      "execution_count": 58,
      "outputs": [
        {
          "output_type": "execute_result",
          "data": {
            "application/vnd.google.colaboratory.intrinsic+json": {
              "type": "string"
            },
            "text/plain": [
              "'/content/drive/My Drive/SemSeg'"
            ]
          },
          "metadata": {
            "tags": []
          },
          "execution_count": 58
        }
      ]
    },
    {
      "cell_type": "code",
      "metadata": {
        "id": "8OM1O80fCDDr"
      },
      "source": [
        "class train(data.Dataset):\n",
        "  def __init__(self, transform = None, imgdir = None, labeldir = None, transformlabel = None, colors = None):\n",
        "    self.train_img = load_img(imgdir, gray = False, input = True)\n",
        "    self.transform = transform\n",
        "    self.transformlabel = transformlabel\n",
        "    self.train_label = label(load_img(labeldir, gray = True, input = False), colors)\n",
        "  def __len__(self):\n",
        "    return len(self.train_img)\n",
        "  def __getitem__(self, index):\n",
        "    img = self.transform(self.train_img[index])\n",
        "    label = self.transformlabel(self.train_label[index])\n",
        "    return img, label\n",
        "\n",
        "class validation(data.Dataset):\n",
        "  def __init__(self, transform = None, imgdir = None, labeldir = None, transformlabel = None, colors = None):\n",
        "    self.train_img = load_img(imgdir, gray = False, input = True)\n",
        "    self.transform = transform\n",
        "    self.transformlabel = transformlabel\n",
        "    self.train_label = label(load_img(labeldir, gray = True, input = False), colors)\n",
        "  def __len__(self):\n",
        "    return len(self.train_img)\n",
        "  def __getitem__(self, index):\n",
        "    img = self.transform(self.train_img[index])\n",
        "    label = self.transformlabel(self.train_label[index])\n",
        "    return img, label\n",
        "\n",
        "class test(data.Dataset):\n",
        "  def __init__(self, transform = None, imgdir = None, labeldir = None, transformlabel = None, colors = None):\n",
        "    self.train_img = load_img(imgdir, gray = False, input = True)\n",
        "    self.transform = transform\n",
        "    self.transformlabel = transformlabel\n",
        "    self.train_label = label(load_img(labeldir, gray = True, input = False), colors)\n",
        "  def __len__(self):\n",
        "    return len(self.train_img)\n",
        "  def __getitem__(self, index):\n",
        "    img = self.transform(self.train_img[index])\n",
        "    label = self.transformlabel(self.train_label[index])\n",
        "    return img, label"
      ],
      "execution_count": 67,
      "outputs": []
    },
    {
      "cell_type": "code",
      "metadata": {
        "id": "xn1VocusCF7_"
      },
      "source": [
        "def load_img(directory, gray, input):\n",
        "  images = []\n",
        "  for img in os.listdir(directory):\n",
        "    img = cv2.imread(os.path.join(directory, img))\n",
        "    if input:\n",
        "      img = cv2.resize(img, (224, 224), interpolation = cv2.INTER_AREA)\n",
        "    else:\n",
        "      img = cv2.resize(img, (224, 224), interpolation = cv2.INTER_AREA)\n",
        "    if gray:\n",
        "      img = cv2.cvtColor(img, cv2.COLOR_BGR2GRAY)\n",
        "    images.append(img)\n",
        "  return images\n",
        "\n",
        "def class_pix(labelimg, colors):\n",
        "  class_pix = np.ones([224,224,1], dtype = int)\n",
        "  for index, c in enumerate(colors):\n",
        "    class_pix[labelimg == c] = index\n",
        "  return class_pix\n",
        "\n",
        "def label(imagelist, colors):\n",
        "  images = []\n",
        "  for img in imagelist:\n",
        "    images.append(class_pix(img, colors))\n",
        "  return images"
      ],
      "execution_count": 68,
      "outputs": []
    },
    {
      "cell_type": "code",
      "metadata": {
        "id": "TGs8eWZUT6DJ"
      },
      "source": [
        "trainset = train(transform_img, os.path.join(os.getcwd(),'CamVid/train'),\n",
        "                 os.path.join(os.getcwd(), 'CamVid/train_labels'),transform_label, colors)"
      ],
      "execution_count": 69,
      "outputs": []
    },
    {
      "cell_type": "code",
      "metadata": {
        "id": "I6cW427ImSA_"
      },
      "source": [
        "valset = validation(transform_img, os.path.join(os.getcwd(),'CamVid/val'),\n",
        "                 os.path.join(os.getcwd(), 'CamVid/val_labels'),transform_label, colors)"
      ],
      "execution_count": 70,
      "outputs": []
    },
    {
      "cell_type": "code",
      "metadata": {
        "id": "Ej601bStmXDf"
      },
      "source": [
        "testset = test(transform_img, os.path.join(os.getcwd(),'CamVid/test'),\n",
        "                 os.path.join(os.getcwd(), 'CamVid/test_labels'),transform_label, colors)"
      ],
      "execution_count": 71,
      "outputs": []
    },
    {
      "cell_type": "code",
      "metadata": {
        "id": "xdAUE6NFmXpv"
      },
      "source": [
        "train_loader = data.DataLoader(trainset, batch_size = 1, shuffle = True, num_workers = 4)\n",
        "val_loader = data.DataLoader(valset, batch_size = 1, shuffle = True, num_workers = 4)\n",
        "test_loader = data.DataLoader(testset, batch_size = 1, shuffle = True, num_workers = 4)"
      ],
      "execution_count": 72,
      "outputs": []
    },
    {
      "cell_type": "code",
      "metadata": {
        "colab": {
          "base_uri": "https://localhost:8080/"
        },
        "id": "Nq3HDSeSnSls",
        "outputId": "6f804a09-2a8a-43f1-d1d1-a06b9a72619d"
      },
      "source": [
        "device = torch.device(\"cuda:0\" if torch.cuda.is_available() else \"cpu\")\n",
        "print(device)"
      ],
      "execution_count": 73,
      "outputs": [
        {
          "output_type": "stream",
          "text": [
            "cuda:0\n"
          ],
          "name": "stdout"
        }
      ]
    },
    {
      "cell_type": "code",
      "metadata": {
        "id": "fcOaNShOOWMk"
      },
      "source": [
        "inputs, labels = next(iter(test_loader))"
      ],
      "execution_count": 74,
      "outputs": []
    },
    {
      "cell_type": "code",
      "metadata": {
        "colab": {
          "base_uri": "https://localhost:8080/",
          "height": 35
        },
        "id": "Xq2lB-VdnX_R",
        "outputId": "46786268-c7e4-4d12-caa2-24daac19eda7"
      },
      "source": [
        "torch.cuda.get_device_name(0)"
      ],
      "execution_count": 16,
      "outputs": [
        {
          "output_type": "execute_result",
          "data": {
            "application/vnd.google.colaboratory.intrinsic+json": {
              "type": "string"
            },
            "text/plain": [
              "'Tesla T4'"
            ]
          },
          "metadata": {
            "tags": []
          },
          "execution_count": 16
        }
      ]
    },
    {
      "cell_type": "code",
      "metadata": {
        "id": "oyPokphByGcj"
      },
      "source": [
        "def convrelu(in_channels, out_channels, kernel, padding):\n",
        "  return nn.Sequential(nn.Conv2d(in_channels, out_channels, kernel, padding = padding),\n",
        "                       nn.ReLU(inplace = True)\n",
        "  )\n",
        "\n",
        "class ResUNet(nn.Module):\n",
        "  def __init__(self, n_class):\n",
        "    super().__init__()\n",
        "    self.base_model = models.resnet18(pretrained = True)\n",
        "    self.base_layers = list(base_model.children())\n",
        "    self.layer0 = nn.Sequential(*self.base_layers[:3])\n",
        "    self.layer0_1x1 = convrelu(64, 64, 1, 0)\n",
        "    self.layer1 = nn.Sequential(*self.base_layers[3:5])\n",
        "    self.layer1_1x1 = convrelu(64, 64, 1, 0)\n",
        "    self.layer2 = self.base_layers[5]\n",
        "    self.layer2_1x1 = convrelu(128, 128, 1, 0)\n",
        "    self.layer3 = self.base_layers[6]\n",
        "    self.layer3_1x1 = convrelu(256, 256, 1, 0)\n",
        "    self.layer4 = self.base_layers[7]\n",
        "    self.layer4_1x1 = convrelu(512, 512, 1, 0)\n",
        "    self.upsample = nn.Upsample(scale_factor = 2, mode = 'bilinear', align_corners= True)\n",
        "    self.conv_up3 = convrelu(256 + 512, 512, 3, 1)\n",
        "    self.conv_up2 = convrelu(128 + 512, 256, 3, 1)\n",
        "    self.conv_up1 = convrelu(64 + 256, 256, 3, 1)\n",
        "    self.conv_up0 = convrelu(64 + 256, 128, 3, 1)\n",
        "\n",
        "    self.conv_original_size0 = convrelu(3, 64, 3, 1)\n",
        "    self.conv_original_size1 = convrelu(64, 64, 3, 1)\n",
        "    self.conv_original_size2 = convrelu(64 + 128, 64, 3, 1)\n",
        "\n",
        "    self.conv_last = nn.Conv2d(64, n_class, 1)\n",
        "\n",
        "  def forward(self, input):\n",
        "    x_original = self.conv_original_size0(input)\n",
        "    x_original = self.conv_original_size1(x_original)\n",
        "\n",
        "    layer0 = self.layer0(input)\n",
        "    layer1 = self.layer1(layer0)\n",
        "    layer2 = self.layer2(layer1)\n",
        "    layer3 = self.layer3(layer2)\n",
        "    layer4 = self.layer4(layer3)\n",
        "    #print(layer2.size(), layer1.size(), layer0.size(), input.size())\n",
        "    layer4 = self.layer4_1x1(layer4)\n",
        "    \n",
        "    x = self.upsample(layer4)\n",
        "    layer3 = self.layer3_1x1(layer3)\n",
        "    x = torch.cat([x, layer3], dim = 1)\n",
        "    x = self.conv_up3(x)\n",
        "    \n",
        "    x = self.upsample(x)\n",
        "    layer2 = self.layer2_1x1(layer2)\n",
        "    x = torch.cat([x, layer2], dim = 1)\n",
        "    x = self.conv_up2(x)\n",
        "    \n",
        "    x = self.upsample(x)\n",
        "    layer1 = self.layer1_1x1(layer1)\n",
        "    x = torch.cat([x, layer1], dim = 1)\n",
        "    x = self.conv_up1(x)\n",
        "\n",
        "    x = self.upsample(x)\n",
        "    layer0 = self.layer0_1x1(layer0)\n",
        "    x = torch.cat([x, layer0], dim = 1)\n",
        "    x = self.conv_up0(x)\n",
        "\n",
        "    x = self.upsample(x)\n",
        "    x = torch.cat([x, x_original], dim = 1)\n",
        "    x = self.conv_original_size2(x)\n",
        "\n",
        "    out = self.conv_last(x)\n",
        "\n",
        "    return out"
      ],
      "execution_count": 17,
      "outputs": []
    },
    {
      "cell_type": "code",
      "metadata": {
        "id": "DgKg8E_E07TH"
      },
      "source": [
        "#base_model = models.resnet18(pretrained = True)\n",
        "#model = ResUNet(32)\n",
        "#model = model.to(device)\n",
        "#summary(model, input_size = (3,224,224))"
      ],
      "execution_count": null,
      "outputs": []
    },
    {
      "cell_type": "code",
      "metadata": {
        "id": "GI9FVt7P1t5G"
      },
      "source": [
        "base_model = models.resnet18(pretrained = True)\n",
        "UNET = ResUNet(32)"
      ],
      "execution_count": 19,
      "outputs": []
    },
    {
      "cell_type": "code",
      "metadata": {
        "id": "W56AVC7bn-9h"
      },
      "source": [
        "#UNET = UNet()\n",
        "UNET.to(device)"
      ],
      "execution_count": null,
      "outputs": []
    },
    {
      "cell_type": "code",
      "metadata": {
        "id": "92zv99wCnYqG"
      },
      "source": [
        "criterion = nn.CrossEntropyLoss()\n",
        "optimizer = optim.Adam(UNET.parameters(), lr = 0.001, betas = (0.9, 0.999), eps = 1e-08, weight_decay = 0, amsgrad = False)"
      ],
      "execution_count": 21,
      "outputs": []
    },
    {
      "cell_type": "code",
      "metadata": {
        "id": "5vV3oC95hLy-"
      },
      "source": [
        "#import os\n",
        "#os._exit(00)"
      ],
      "execution_count": null,
      "outputs": []
    },
    {
      "cell_type": "code",
      "metadata": {
        "id": "lYtGnX0KzhrU"
      },
      "source": [
        "#UNET = torch.load(os.path.join(os.getcwd(), unet20.pth))"
      ],
      "execution_count": null,
      "outputs": []
    },
    {
      "cell_type": "code",
      "metadata": {
        "id": "ie1hbAZv9nnc",
        "colab": {
          "base_uri": "https://localhost:8080/"
        },
        "outputId": "e853f6b0-8e66-49ad-b430-7aea5fcb2e0f"
      },
      "source": [
        "train_loss = []\n",
        "val_loss = []\n",
        "epochs = 100\n",
        "for ep in range(epochs):\n",
        "  UNET.train()\n",
        "  running_loss = 0.0\n",
        "  counter = 0\n",
        "  for i, data in enumerate(train_loader):\n",
        "    inputs, labels = data\n",
        "    inputs, labels = inputs.to(device), labels.to(device)\n",
        "    if labels.size() == torch.Size([1, 1, 224, 224]):\n",
        "      labels = labels.reshape(1, 224, 224)\n",
        "    optimizer.zero_grad()\n",
        "    outputs = UNET(inputs)\n",
        "    loss = criterion(outputs, labels)\n",
        "    loss.backward()\n",
        "    optimizer.step()\n",
        "    running_loss = running_loss + loss.item()\n",
        "    counter = counter + 1\n",
        "  epoch_loss = running_loss/counter\n",
        "  print('Epoch {}/{}, {} Loss: {:.4f}'.format(ep, epochs, 'Training', epoch_loss))\n",
        "  train_loss = train_loss + [epoch_loss]\n",
        "  UNET.eval()\n",
        "  running_loss = 0.0\n",
        "  counter = 0\n",
        "  for i, data in enumerate(val_loader):\n",
        "    inputs, labels = data\n",
        "    inputs, labels = inputs.to(device), labels.to(device)\n",
        "    if labels.size() == torch.Size([1, 1, 224, 224]):\n",
        "      labels = labels.reshape(1, 224, 224)\n",
        "    optimizer.zero_grad()\n",
        "    outputs = UNET(inputs)\n",
        "    loss = criterion(outputs, labels)\n",
        "    running_loss = running_loss + loss.item()\n",
        "    counter = counter + 1\n",
        "  epoch_loss = running_loss/counter\n",
        "  print('Epoch {}/{}, {} Loss: {:.4f}'.format(ep, epochs, 'Validation', epoch_loss))\n",
        "  val_loss = val_loss + [epoch_loss]\n",
        "  if ep%10 == 0:\n",
        "    print(\"Saving Model after epoch {}\".format(ep))\n",
        "    torch.save(UNET.state_dict(), os.path.join(os.getcwd(), 'unet{}.pth'.format(ep)))"
      ],
      "execution_count": 22,
      "outputs": [
        {
          "output_type": "stream",
          "text": [
            "Epoch 0/100, Training Loss: 0.5151\n",
            "Epoch 0/100, Validation Loss: 0.5384\n",
            "Saving Model after epoch 0\n",
            "Epoch 1/100, Training Loss: 0.4327\n",
            "Epoch 1/100, Validation Loss: 0.4420\n",
            "Epoch 2/100, Training Loss: 0.4195\n",
            "Epoch 2/100, Validation Loss: 0.4001\n",
            "Epoch 3/100, Training Loss: 0.4163\n",
            "Epoch 3/100, Validation Loss: 0.4699\n",
            "Epoch 4/100, Training Loss: 0.4105\n",
            "Epoch 4/100, Validation Loss: 0.4006\n",
            "Epoch 5/100, Training Loss: 0.4081\n",
            "Epoch 5/100, Validation Loss: 0.4725\n",
            "Epoch 6/100, Training Loss: 0.4048\n",
            "Epoch 6/100, Validation Loss: 0.4241\n",
            "Epoch 7/100, Training Loss: 0.4055\n",
            "Epoch 7/100, Validation Loss: 0.4074\n",
            "Epoch 8/100, Training Loss: 0.4033\n",
            "Epoch 8/100, Validation Loss: 0.4081\n",
            "Epoch 9/100, Training Loss: 0.4013\n",
            "Epoch 9/100, Validation Loss: 0.4104\n",
            "Epoch 10/100, Training Loss: 0.3974\n",
            "Epoch 10/100, Validation Loss: 0.4241\n",
            "Saving Model after epoch 10\n",
            "Epoch 11/100, Training Loss: 0.4002\n",
            "Epoch 11/100, Validation Loss: 0.4026\n",
            "Epoch 12/100, Training Loss: 0.3974\n",
            "Epoch 12/100, Validation Loss: 0.4146\n",
            "Epoch 13/100, Training Loss: 0.3964\n",
            "Epoch 13/100, Validation Loss: 0.4013\n",
            "Epoch 14/100, Training Loss: 0.3940\n",
            "Epoch 14/100, Validation Loss: 0.4069\n",
            "Epoch 15/100, Training Loss: 0.3940\n",
            "Epoch 15/100, Validation Loss: 0.4150\n",
            "Epoch 16/100, Training Loss: 0.3967\n",
            "Epoch 16/100, Validation Loss: 0.4323\n",
            "Epoch 17/100, Training Loss: 0.3889\n",
            "Epoch 17/100, Validation Loss: 0.4012\n",
            "Epoch 18/100, Training Loss: 0.3880\n",
            "Epoch 18/100, Validation Loss: 0.3983\n",
            "Epoch 19/100, Training Loss: 0.3866\n",
            "Epoch 19/100, Validation Loss: 0.4143\n",
            "Epoch 20/100, Training Loss: 0.3816\n",
            "Epoch 20/100, Validation Loss: 0.4034\n",
            "Saving Model after epoch 20\n",
            "Epoch 21/100, Training Loss: 0.3775\n",
            "Epoch 21/100, Validation Loss: 0.4080\n",
            "Epoch 22/100, Training Loss: 0.3779\n",
            "Epoch 22/100, Validation Loss: 0.4202\n",
            "Epoch 23/100, Training Loss: 0.3709\n",
            "Epoch 23/100, Validation Loss: 0.4076\n",
            "Epoch 24/100, Training Loss: 0.3688\n",
            "Epoch 24/100, Validation Loss: 0.4204\n",
            "Epoch 25/100, Training Loss: 0.3582\n",
            "Epoch 25/100, Validation Loss: 0.4338\n",
            "Epoch 26/100, Training Loss: 0.3539\n",
            "Epoch 26/100, Validation Loss: 0.4481\n",
            "Epoch 27/100, Training Loss: 0.3564\n",
            "Epoch 27/100, Validation Loss: 0.4363\n",
            "Epoch 28/100, Training Loss: 0.3461\n",
            "Epoch 28/100, Validation Loss: 0.4931\n",
            "Epoch 29/100, Training Loss: 0.3426\n",
            "Epoch 29/100, Validation Loss: 0.4383\n",
            "Epoch 30/100, Training Loss: 0.3350\n",
            "Epoch 30/100, Validation Loss: 0.4457\n",
            "Saving Model after epoch 30\n",
            "Epoch 31/100, Training Loss: 0.3302\n",
            "Epoch 31/100, Validation Loss: 0.4504\n",
            "Epoch 32/100, Training Loss: 0.3243\n",
            "Epoch 32/100, Validation Loss: 0.4673\n",
            "Epoch 33/100, Training Loss: 0.3226\n",
            "Epoch 33/100, Validation Loss: 0.4707\n",
            "Epoch 34/100, Training Loss: 0.3187\n",
            "Epoch 34/100, Validation Loss: 0.4275\n",
            "Epoch 35/100, Training Loss: 0.3165\n",
            "Epoch 35/100, Validation Loss: 0.4905\n",
            "Epoch 36/100, Training Loss: 0.3086\n",
            "Epoch 36/100, Validation Loss: 0.4533\n",
            "Epoch 37/100, Training Loss: 0.3014\n",
            "Epoch 37/100, Validation Loss: 0.4770\n",
            "Epoch 38/100, Training Loss: 0.2999\n",
            "Epoch 38/100, Validation Loss: 0.4712\n",
            "Epoch 39/100, Training Loss: 0.2937\n",
            "Epoch 39/100, Validation Loss: 0.4774\n",
            "Epoch 40/100, Training Loss: 0.2853\n",
            "Epoch 40/100, Validation Loss: 0.4611\n",
            "Saving Model after epoch 40\n",
            "Epoch 41/100, Training Loss: 0.2844\n",
            "Epoch 41/100, Validation Loss: 0.4914\n",
            "Epoch 42/100, Training Loss: 0.2808\n",
            "Epoch 42/100, Validation Loss: 0.4675\n",
            "Epoch 43/100, Training Loss: 0.2752\n",
            "Epoch 43/100, Validation Loss: 0.4899\n",
            "Epoch 44/100, Training Loss: 0.2654\n",
            "Epoch 44/100, Validation Loss: 0.4911\n",
            "Epoch 45/100, Training Loss: 0.2612\n",
            "Epoch 45/100, Validation Loss: 0.5138\n",
            "Epoch 46/100, Training Loss: 0.2582\n",
            "Epoch 46/100, Validation Loss: 0.4938\n",
            "Epoch 47/100, Training Loss: 0.2573\n",
            "Epoch 47/100, Validation Loss: 0.4960\n",
            "Epoch 48/100, Training Loss: 0.2571\n",
            "Epoch 48/100, Validation Loss: 0.5212\n",
            "Epoch 49/100, Training Loss: 0.2475\n",
            "Epoch 49/100, Validation Loss: 0.4948\n",
            "Epoch 50/100, Training Loss: 0.2464\n",
            "Epoch 50/100, Validation Loss: 0.4922\n",
            "Saving Model after epoch 50\n",
            "Epoch 51/100, Training Loss: 0.2415\n",
            "Epoch 51/100, Validation Loss: 0.4965\n",
            "Epoch 52/100, Training Loss: 0.2402\n",
            "Epoch 52/100, Validation Loss: 0.5414\n",
            "Epoch 53/100, Training Loss: 0.2384\n",
            "Epoch 53/100, Validation Loss: 0.5060\n",
            "Epoch 54/100, Training Loss: 0.2413\n",
            "Epoch 54/100, Validation Loss: 0.5016\n",
            "Epoch 55/100, Training Loss: 0.2334\n",
            "Epoch 55/100, Validation Loss: 0.5232\n",
            "Epoch 56/100, Training Loss: 0.2250\n",
            "Epoch 56/100, Validation Loss: 0.5163\n",
            "Epoch 57/100, Training Loss: 0.2222\n",
            "Epoch 57/100, Validation Loss: 0.4922\n",
            "Epoch 58/100, Training Loss: 0.2201\n",
            "Epoch 58/100, Validation Loss: 0.5186\n",
            "Epoch 59/100, Training Loss: 0.2209\n",
            "Epoch 59/100, Validation Loss: 0.5425\n",
            "Epoch 60/100, Training Loss: 0.2240\n",
            "Epoch 60/100, Validation Loss: 0.5639\n",
            "Saving Model after epoch 60\n",
            "Epoch 61/100, Training Loss: 0.2208\n",
            "Epoch 61/100, Validation Loss: 0.5327\n",
            "Epoch 62/100, Training Loss: 0.2173\n",
            "Epoch 62/100, Validation Loss: 0.5133\n",
            "Epoch 63/100, Training Loss: 0.2182\n",
            "Epoch 63/100, Validation Loss: 0.5369\n",
            "Epoch 64/100, Training Loss: 0.2113\n",
            "Epoch 64/100, Validation Loss: 0.5661\n",
            "Epoch 65/100, Training Loss: 0.2059\n",
            "Epoch 65/100, Validation Loss: 0.5474\n",
            "Epoch 66/100, Training Loss: 0.2051\n",
            "Epoch 66/100, Validation Loss: 0.5810\n",
            "Epoch 67/100, Training Loss: 0.2023\n",
            "Epoch 67/100, Validation Loss: 0.5703\n",
            "Epoch 68/100, Training Loss: 0.2017\n",
            "Epoch 68/100, Validation Loss: 0.5475\n",
            "Epoch 69/100, Training Loss: 0.2017\n",
            "Epoch 69/100, Validation Loss: 0.5707\n",
            "Epoch 70/100, Training Loss: 0.2028\n",
            "Epoch 70/100, Validation Loss: 0.5408\n",
            "Saving Model after epoch 70\n",
            "Epoch 71/100, Training Loss: 0.1999\n",
            "Epoch 71/100, Validation Loss: 0.6211\n",
            "Epoch 72/100, Training Loss: 0.2013\n",
            "Epoch 72/100, Validation Loss: 0.5271\n",
            "Epoch 73/100, Training Loss: 0.1984\n",
            "Epoch 73/100, Validation Loss: 0.5450\n",
            "Epoch 74/100, Training Loss: 0.1940\n",
            "Epoch 74/100, Validation Loss: 0.5624\n",
            "Epoch 75/100, Training Loss: 0.1883\n",
            "Epoch 75/100, Validation Loss: 0.5485\n",
            "Epoch 76/100, Training Loss: 0.1863\n",
            "Epoch 76/100, Validation Loss: 0.6086\n",
            "Epoch 77/100, Training Loss: 0.1870\n",
            "Epoch 77/100, Validation Loss: 0.5826\n",
            "Epoch 78/100, Training Loss: 0.1869\n",
            "Epoch 78/100, Validation Loss: 0.5286\n",
            "Epoch 79/100, Training Loss: 0.1863\n",
            "Epoch 79/100, Validation Loss: 0.5715\n",
            "Epoch 80/100, Training Loss: 0.1896\n",
            "Epoch 80/100, Validation Loss: 0.5684\n",
            "Saving Model after epoch 80\n",
            "Epoch 81/100, Training Loss: 0.1870\n",
            "Epoch 81/100, Validation Loss: 0.6102\n",
            "Epoch 82/100, Training Loss: 0.1879\n",
            "Epoch 82/100, Validation Loss: 0.6151\n",
            "Epoch 83/100, Training Loss: 0.1864\n",
            "Epoch 83/100, Validation Loss: 0.5943\n",
            "Epoch 84/100, Training Loss: 0.1840\n",
            "Epoch 84/100, Validation Loss: 0.6250\n",
            "Epoch 85/100, Training Loss: 0.1808\n",
            "Epoch 85/100, Validation Loss: 0.6403\n",
            "Epoch 86/100, Training Loss: 0.1757\n",
            "Epoch 86/100, Validation Loss: 0.5788\n",
            "Epoch 87/100, Training Loss: 0.1758\n",
            "Epoch 87/100, Validation Loss: 0.6034\n",
            "Epoch 88/100, Training Loss: 0.1743\n",
            "Epoch 88/100, Validation Loss: 0.6260\n",
            "Epoch 89/100, Training Loss: 0.1718\n",
            "Epoch 89/100, Validation Loss: 0.6115\n",
            "Epoch 90/100, Training Loss: 0.1706\n",
            "Epoch 90/100, Validation Loss: 0.6040\n",
            "Saving Model after epoch 90\n",
            "Epoch 91/100, Training Loss: 0.1710\n",
            "Epoch 91/100, Validation Loss: 0.6247\n",
            "Epoch 92/100, Training Loss: 0.1686\n",
            "Epoch 92/100, Validation Loss: 0.5996\n",
            "Epoch 93/100, Training Loss: 0.1696\n",
            "Epoch 93/100, Validation Loss: 0.6265\n",
            "Epoch 94/100, Training Loss: 0.1720\n",
            "Epoch 94/100, Validation Loss: 0.5362\n",
            "Epoch 95/100, Training Loss: 0.1733\n",
            "Epoch 95/100, Validation Loss: 0.6144\n",
            "Epoch 96/100, Training Loss: 0.1674\n",
            "Epoch 96/100, Validation Loss: 0.6303\n",
            "Epoch 97/100, Training Loss: 0.1638\n",
            "Epoch 97/100, Validation Loss: 0.6383\n",
            "Epoch 98/100, Training Loss: 0.1619\n",
            "Epoch 98/100, Validation Loss: 0.6625\n",
            "Epoch 99/100, Training Loss: 0.1613\n",
            "Epoch 99/100, Validation Loss: 0.6301\n"
          ],
          "name": "stdout"
        }
      ]
    },
    {
      "cell_type": "code",
      "metadata": {
        "colab": {
          "base_uri": "https://localhost:8080/",
          "height": 281
        },
        "id": "8rWInsUY203c",
        "outputId": "25be490a-f122-4314-f198-cb0253c9277a"
      },
      "source": [
        "plt.plot(train_loss, label = 'Training')\n",
        "plt.plot(val_loss, label = 'Validation')\n",
        "plt.title(\"Loss Variation\")\n",
        "plt.legend()\n",
        "plt.show()"
      ],
      "execution_count": 23,
      "outputs": [
        {
          "output_type": "display_data",
          "data": {
            "image/png": "[encoded data removed]",
            "text/plain": [
              "<Figure size 432x288 with 1 Axes>"
            ]
          },
          "metadata": {
            "tags": [],
            "needs_background": "light"
          }
        }
      ]
    },
    {
      "cell_type": "markdown",
      "metadata": {
        "id": "kbUuQ5meiueY"
      },
      "source": [
        "It turns out that overfitting had started after epoch 50. Therefore, using the weights saved at that point."
      ]
    },
    {
      "cell_type": "code",
      "metadata": {
        "colab": {
          "base_uri": "https://localhost:8080/"
        },
        "id": "v_2RsAs0iVgR",
        "outputId": "876c5945-ac82-4956-efdc-9d45e05ff045"
      },
      "source": [
        "%ls"
      ],
      "execution_count": 24,
      "outputs": [
        {
          "output_type": "stream",
          "text": [
            "archive.zip    \u001b[0m\u001b[01;34mmodels\u001b[0m/       unet20.pth  unet60.pth  unet.ipynb\n",
            "\u001b[01;34mCamVid\u001b[0m/        \u001b[01;34m__pycache__\u001b[0m/  unet30.pth  unet70.pth  UNet.ipynb\n",
            "Copy.ipynb     unet0.pth     unet40.pth  unet80.pth  utils.py\n",
            "dataloader.py  unet10.pth    unet50.pth  unet90.pth  VanillaUNet.pth\n"
          ],
          "name": "stdout"
        }
      ]
    },
    {
      "cell_type": "code",
      "metadata": {
        "id": "jxehBLKljBPP"
      },
      "source": [
        "colors = np.array([[0,0,0], [111,74,0], [81,0,81], [128,64,128], [244, 35, 232]\n",
        "                   ,[250, 170, 160], [230, 150, 140], [70,70,70], [102,102, 156]\n",
        "                   , [190, 153, 153], [180, 165, 180], [150, 100, 100]\n",
        "                   , [150, 120, 90], [153, 153, 153], [250, 170, 30], [220, 220, 0]\n",
        "                   , [107, 142, 35], [152, 251, 152], [70, 130, 180], [220, 20, 60]\n",
        "                   , [255, 0, 0], [0, 0, 142], [0, 0, 70], [0, 60, 100], [0, 0, 90]\n",
        "                   , [0, 0, 110], [0, 80, 100], [0, 0, 230], [119, 11, 32], [0, 0, 142]], dtype = np.uint8)\n",
        "colors = c2g(colors, grayscale = False)"
      ],
      "execution_count": 40,
      "outputs": []
    },
    {
      "cell_type": "code",
      "metadata": {
        "id": "ZEdot1ZOjY-7"
      },
      "source": [
        "def testing(image, colors):\n",
        "  class_pix = np.ones([224,224,3], dtype = np.uint8)\n",
        "  for index, c in enumerate(colors):\n",
        "    class_pix[image == index] = c\n",
        "  return class_pix.reshape((224,224,3))"
      ],
      "execution_count": 41,
      "outputs": []
    },
    {
      "cell_type": "code",
      "metadata": {
        "id": "WCMPAJfxj0qW"
      },
      "source": [
        "inputs, labels = next(iter(test_loader))"
      ],
      "execution_count": 75,
      "outputs": []
    },
    {
      "cell_type": "code",
      "metadata": {
        "id": "0gnnSYGkkWzj"
      },
      "source": [
        "inputs, labels = inputs.to(device), labels.to(device)"
      ],
      "execution_count": 76,
      "outputs": []
    },
    {
      "cell_type": "code",
      "metadata": {
        "id": "Ckhyx_RAlBIN"
      },
      "source": [
        "UNET = ResUNet(32)"
      ],
      "execution_count": 77,
      "outputs": []
    },
    {
      "cell_type": "code",
      "metadata": {
        "colab": {
          "base_uri": "https://localhost:8080/"
        },
        "id": "be_hshB-kaig",
        "outputId": "c7d0a790-13ae-42cc-d474-00df5520581b"
      },
      "source": [
        "UNET.load_state_dict(torch.load(os.path.join(os.getcwd(), 'unet20.pth')))"
      ],
      "execution_count": 78,
      "outputs": [
        {
          "output_type": "execute_result",
          "data": {
            "text/plain": [
              "<All keys matched successfully>"
            ]
          },
          "metadata": {
            "tags": []
          },
          "execution_count": 78
        }
      ]
    },
    {
      "cell_type": "code",
      "metadata": {
        "id": "6UBryKq5lwCY"
      },
      "source": [
        "UNET.to(device)"
      ],
      "execution_count": null,
      "outputs": []
    },
    {
      "cell_type": "code",
      "metadata": {
        "id": "uh0nI8waknd_"
      },
      "source": [
        "outputs = UNET(inputs)"
      ],
      "execution_count": 80,
      "outputs": []
    },
    {
      "cell_type": "markdown",
      "metadata": {
        "id": "PMy507xmpHkk"
      },
      "source": [
        "# Jaccard Index Metric"
      ]
    },
    {
      "cell_type": "code",
      "metadata": {
        "id": "AgLEelqFmIjM"
      },
      "source": [
        "IOUf = 0\n",
        "count = 0\n",
        "for i, data in enumerate(test_loader):\n",
        "  inputs, labels = data\n",
        "  inputs = inputs.to(device)\n",
        "  outputs = UNET(inputs)\n",
        "  outputs = outputs.cpu()\n",
        "  outputs = outputs.detach().numpy()\n",
        "  outputs = outputs.argmax(axis = 1)\n",
        "  if labels.size() == torch.Size([outputs.shape[0], 1, 224, 224]):\n",
        "    labels = labels.detach().numpy()\n",
        "    labels = labels.reshape(outputs.shape[0], 224, 224)\n",
        "  outputs = outputs.reshape(outputs.shape[0], 224, 224)\n",
        "  for k in range(outputs.shape[0]):\n",
        "    o = outputs[k, :, :]\n",
        "    l = labels[k, :, :]\n",
        "    IOU = 0\n",
        "    for c in range(32):\n",
        "      intersection = 0\n",
        "      union = 0\n",
        "      f = c * np.ones((1,224,224))\n",
        "      i = (o == c) * 1\n",
        "      j = (l == c) * 1\n",
        "      inte = 0\n",
        "      for x in range(224):\n",
        "        for y in range(224):\n",
        "          if i[x,y] == j[x,y] and i[x,y] == 1:\n",
        "            inte = inte + 1\n",
        "      intersection = intersection + inte\n",
        "      union = union + ((f == l) * 1).sum() + ((f == o) * 1).sum() - inte\n",
        "      if union == 0:\n",
        "        continue\n",
        "      IOUc = intersection/union\n",
        "      IOU = IOU + IOUc\n",
        "    count = count + 1\n",
        "    IOU = IOU/32\n",
        "  IOUf = IOUf + IOU"
      ],
      "execution_count": 81,
      "outputs": []
    },
    {
      "cell_type": "code",
      "metadata": {
        "colab": {
          "base_uri": "https://localhost:8080/"
        },
        "id": "HnCXbpozl1gR",
        "outputId": "a9c72492-a32d-49d9-fa0a-d2c5ad347213"
      },
      "source": [
        "print(\"IoU: \", IOUf/count)"
      ],
      "execution_count": 82,
      "outputs": [
        {
          "output_type": "stream",
          "text": [
            "IoU:  0.04593538746424485\n"
          ],
          "name": "stdout"
        }
      ]
    },
    {
      "cell_type": "code",
      "metadata": {
        "id": "_CbXQDXUsWbn"
      },
      "source": [
        "inputs, labels = next(iter(test_loader))"
      ],
      "execution_count": 95,
      "outputs": []
    },
    {
      "cell_type": "code",
      "metadata": {
        "colab": {
          "base_uri": "https://localhost:8080/",
          "height": 323
        },
        "id": "mscQNmVlsct9",
        "outputId": "ea976255-2e16-4dc3-a9c1-1f00aaee632a"
      },
      "source": [
        "plt.imshow(ndimage.rotate(np.squeeze(inputs.numpy()).transpose(2,1,0), 270), cmap = 'gray')"
      ],
      "execution_count": 96,
      "outputs": [
        {
          "output_type": "stream",
          "text": [
            "Clipping input data to the valid range for imshow with RGB data ([0..1] for floats or [0..255] for integers).\n"
          ],
          "name": "stderr"
        },
        {
          "output_type": "execute_result",
          "data": {
            "text/plain": [
              "<matplotlib.image.AxesImage at 0x7f3f24f8e710>"
            ]
          },
          "metadata": {
            "tags": []
          },
          "execution_count": 96
        },
        {
          "output_type": "display_data",
          "data": {
            "image/png": "[encoded data removed]",
            "text/plain": [
              "<Figure size 432x288 with 1 Axes>"
            ]
          },
          "metadata": {
            "tags": [],
            "needs_background": "light"
          }
        }
      ]
    },
    {
      "cell_type": "code",
      "metadata": {
        "id": "xypuMp6otCEx"
      },
      "source": [
        "inputs = inputs.to(device)\n",
        "outputs = UNET(inputs)"
      ],
      "execution_count": 97,
      "outputs": []
    },
    {
      "cell_type": "code",
      "metadata": {
        "id": "RCJiAhZotFfT"
      },
      "source": [
        "outputs = outputs.cpu()\n",
        "outputs = outputs.detach().numpy()\n",
        "outputs = outputs.argmax(axis = 1)"
      ],
      "execution_count": 98,
      "outputs": []
    },
    {
      "cell_type": "code",
      "metadata": {
        "colab": {
          "base_uri": "https://localhost:8080/",
          "height": 286
        },
        "id": "OeaG7STrtORq",
        "outputId": "66bc876e-31ac-45ed-96ee-34359e52cee1"
      },
      "source": [
        "plt.imshow(outputs[0])"
      ],
      "execution_count": 99,
      "outputs": [
        {
          "output_type": "execute_result",
          "data": {
            "text/plain": [
              "<matplotlib.image.AxesImage at 0x7f3f24f74860>"
            ]
          },
          "metadata": {
            "tags": []
          },
          "execution_count": 99
        },
        {
          "output_type": "display_data",
          "data": {
            "image/png": "[encoded data removed]",
            "text/plain": [
              "<Figure size 432x288 with 1 Axes>"
            ]
          },
          "metadata": {
            "tags": [],
            "needs_background": "light"
          }
        }
      ]
    },
    {
      "cell_type": "code",
      "metadata": {
        "id": "XIXRSA8csHo5"
      },
      "source": [
        ""
      ],
      "execution_count": null,
      "outputs": []
    }
  ]
}