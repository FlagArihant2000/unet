{
  "nbformat": 4,
  "nbformat_minor": 0,
  "metadata": {
    "colab": {
      "name": "UNet.ipynb",
      "provenance": [],
      "collapsed_sections": []
    },
    "kernelspec": {
      "name": "python3",
      "display_name": "Python 3"
    },
    "accelerator": "GPU"
  },
  "cells": [
    {
      "cell_type": "code",
      "metadata": {
        "colab": {
          "base_uri": "https://localhost:8080/"
        },
        "id": "lk0LPLD2zy8K",
        "outputId": "b9591c68-5d7c-4ac6-df06-2047b13279ec"
      },
      "source": [
        "from google.colab import drive\n",
        "drive.mount('/content/drive')"
      ],
      "execution_count": 1,
      "outputs": [
        {
          "output_type": "stream",
          "text": [
            "Drive already mounted at /content/drive; to attempt to forcibly remount, call drive.mount(\"/content/drive\", force_remount=True).\n"
          ],
          "name": "stdout"
        }
      ]
    },
    {
      "cell_type": "code",
      "metadata": {
        "colab": {
          "base_uri": "https://localhost:8080/"
        },
        "id": "giyIa8LsT_C1",
        "outputId": "32abb772-c066-4d5b-b659-6422a96190a1"
      },
      "source": [
        "%cd '/content/drive/My Drive/SemSeg'"
      ],
      "execution_count": 2,
      "outputs": [
        {
          "output_type": "stream",
          "text": [
            "/content/drive/My Drive/SemSeg\n"
          ],
          "name": "stdout"
        }
      ]
    },
    {
      "cell_type": "code",
      "metadata": {
        "id": "XVdRhU50k-fI"
      },
      "source": [
        "#!unzip archive.zip"
      ],
      "execution_count": 3,
      "outputs": []
    },
    {
      "cell_type": "code",
      "metadata": {
        "id": "MTVs6DGcz7LX"
      },
      "source": [
        "import cv2\n",
        "import numpy as np\n",
        "import matplotlib.pyplot as plt\n",
        "import os\n",
        "import torch\n",
        "import torch.nn as nn\n",
        "import torch.nn.functional as F\n",
        "import torchvision\n",
        "from torchvision import transforms\n",
        "import torch.utils.data as data\n",
        "import torch.optim as optim\n",
        "from torch.utils.data import Dataset, DataLoader\n",
        "from scipy import ndimage\n",
        "from dataloader import *\n",
        "from utils import *\n",
        "from models.unet import *"
      ],
      "execution_count": 4,
      "outputs": []
    },
    {
      "cell_type": "code",
      "metadata": {
        "id": "3E6StwkU0Myy"
      },
      "source": [
        "#def c2g(colors):\n",
        "#  cn = np.reshape(colors, (1,1,3))\n",
        "#  cn = cv2.cvtColor(cn, cv2.COLOR_BGR2GRAY)\n",
        "#  return cn\n",
        "# Pixel classes\n",
        "colors = np.array([[0,0,0], [111,74,0], [81,0,81], [128,64,128], [244, 35, 232]\n",
        "                   ,[250, 170, 160], [230, 150, 140], [70,70,70], [102,102, 156]\n",
        "                   , [190, 153, 153], [180, 165, 180], [150, 100, 100]\n",
        "                   , [150, 120, 90], [153, 153, 153], [250, 170, 30], [220, 220, 0]\n",
        "                   , [107, 142, 35], [152, 251, 152], [70, 130, 180], [220, 20, 60]\n",
        "                   , [255, 0, 0], [0, 0, 142], [0, 0, 70], [0, 60, 100], [0, 0, 90]\n",
        "                   , [0, 0, 110], [0, 80, 100], [0, 0, 230], [119, 11, 32], [0, 0, 142]], dtype = np.uint8)\n",
        "colors = c2g(colors, grayscale = True)"
      ],
      "execution_count": 5,
      "outputs": []
    },
    {
      "cell_type": "code",
      "metadata": {
        "id": "Fm8CF13A0J4B"
      },
      "source": [
        "colors"
      ],
      "execution_count": null,
      "outputs": []
    },
    {
      "cell_type": "code",
      "metadata": {
        "id": "pPW1D0Rp0dzQ"
      },
      "source": [
        "# Perform Data Loading\n",
        "\n",
        "transform_img = transforms.Compose([transforms.ToTensor(),\n",
        "                                    transforms.Normalize(mean=[0.485, 0.456, 0.406],std=[0.229, 0.224, 0.225])])\n",
        "transform_label = transforms.Compose([transforms.ToTensor()])"
      ],
      "execution_count": 7,
      "outputs": []
    },
    {
      "cell_type": "code",
      "metadata": {
        "colab": {
          "base_uri": "https://localhost:8080/",
          "height": 35
        },
        "id": "WD3L9I1ITtUD",
        "outputId": "0dbaed70-9493-40df-fb86-d3468abc5068"
      },
      "source": [
        "os.getcwd()"
      ],
      "execution_count": 8,
      "outputs": [
        {
          "output_type": "execute_result",
          "data": {
            "application/vnd.google.colaboratory.intrinsic+json": {
              "type": "string"
            },
            "text/plain": [
              "'/content/drive/My Drive/SemSeg'"
            ]
          },
          "metadata": {
            "tags": []
          },
          "execution_count": 8
        }
      ]
    },
    {
      "cell_type": "code",
      "metadata": {
        "id": "TGs8eWZUT6DJ"
      },
      "source": [
        "trainset = train(transform_img, os.path.join(os.getcwd(),'CamVid/train'),\n",
        "                 os.path.join(os.getcwd(), 'CamVid/train_labels'),transform_label, colors)"
      ],
      "execution_count": 9,
      "outputs": []
    },
    {
      "cell_type": "code",
      "metadata": {
        "id": "I6cW427ImSA_"
      },
      "source": [
        "valset = validation(transform_img, os.path.join(os.getcwd(),'CamVid/val'),\n",
        "                 os.path.join(os.getcwd(), 'CamVid/val_labels'),transform_label, colors)"
      ],
      "execution_count": 10,
      "outputs": []
    },
    {
      "cell_type": "code",
      "metadata": {
        "id": "Ej601bStmXDf"
      },
      "source": [
        "testset = test(transform_img, os.path.join(os.getcwd(),'CamVid/test'),\n",
        "                 os.path.join(os.getcwd(), 'CamVid/test_labels'),transform_label, colors)"
      ],
      "execution_count": 11,
      "outputs": []
    },
    {
      "cell_type": "code",
      "metadata": {
        "id": "xdAUE6NFmXpv"
      },
      "source": [
        "train_loader = data.DataLoader(trainset, batch_size = 1, shuffle = True, num_workers = 4)\n",
        "val_loader = data.DataLoader(valset, batch_size = 1, shuffle = True, num_workers = 4)\n",
        "test_loader = data.DataLoader(testset, batch_size = 1, shuffle = True, num_workers = 4)"
      ],
      "execution_count": 12,
      "outputs": []
    },
    {
      "cell_type": "code",
      "metadata": {
        "colab": {
          "base_uri": "https://localhost:8080/"
        },
        "id": "Nq3HDSeSnSls",
        "outputId": "3f15bd09-a69a-4384-bec6-2915976a702b"
      },
      "source": [
        "device = torch.device(\"cuda:0\" if torch.cuda.is_available() else \"cpu\")\n",
        "print(device)"
      ],
      "execution_count": 13,
      "outputs": [
        {
          "output_type": "stream",
          "text": [
            "cuda:0\n"
          ],
          "name": "stdout"
        }
      ]
    },
    {
      "cell_type": "code",
      "metadata": {
        "colab": {
          "base_uri": "https://localhost:8080/",
          "height": 35
        },
        "id": "Xq2lB-VdnX_R",
        "outputId": "57bd3153-df62-4b68-b719-dbc1ab3b1eea"
      },
      "source": [
        "torch.cuda.get_device_name(0)"
      ],
      "execution_count": 14,
      "outputs": [
        {
          "output_type": "execute_result",
          "data": {
            "application/vnd.google.colaboratory.intrinsic+json": {
              "type": "string"
            },
            "text/plain": [
              "'Tesla T4'"
            ]
          },
          "metadata": {
            "tags": []
          },
          "execution_count": 14
        }
      ]
    },
    {
      "cell_type": "code",
      "metadata": {
        "id": "W56AVC7bn-9h",
        "colab": {
          "base_uri": "https://localhost:8080/"
        },
        "outputId": "2612882a-dcbb-49d4-d548-bb0d8f38992c"
      },
      "source": [
        "UNET = UNet()\n",
        "UNET.to(device)"
      ],
      "execution_count": 15,
      "outputs": [
        {
          "output_type": "execute_result",
          "data": {
            "text/plain": [
              "UNet(\n",
              "  (max_pool): MaxPool2d(kernel_size=2, stride=2, padding=0, dilation=1, ceil_mode=False)\n",
              "  (down_conv_1): Sequential(\n",
              "    (0): Conv2d(3, 64, kernel_size=(3, 3), stride=(1, 1))\n",
              "    (1): ReLU(inplace=True)\n",
              "    (2): Conv2d(64, 64, kernel_size=(3, 3), stride=(1, 1))\n",
              "    (3): ReLU(inplace=True)\n",
              "  )\n",
              "  (down_conv_2): Sequential(\n",
              "    (0): Conv2d(64, 128, kernel_size=(3, 3), stride=(1, 1))\n",
              "    (1): ReLU(inplace=True)\n",
              "    (2): Conv2d(128, 128, kernel_size=(3, 3), stride=(1, 1))\n",
              "    (3): ReLU(inplace=True)\n",
              "  )\n",
              "  (down_conv_3): Sequential(\n",
              "    (0): Conv2d(128, 256, kernel_size=(3, 3), stride=(1, 1))\n",
              "    (1): ReLU(inplace=True)\n",
              "    (2): Conv2d(256, 256, kernel_size=(3, 3), stride=(1, 1))\n",
              "    (3): ReLU(inplace=True)\n",
              "  )\n",
              "  (down_conv_4): Sequential(\n",
              "    (0): Conv2d(256, 512, kernel_size=(3, 3), stride=(1, 1))\n",
              "    (1): ReLU(inplace=True)\n",
              "    (2): Conv2d(512, 512, kernel_size=(3, 3), stride=(1, 1))\n",
              "    (3): ReLU(inplace=True)\n",
              "  )\n",
              "  (down_conv_5): Sequential(\n",
              "    (0): Conv2d(512, 1024, kernel_size=(3, 3), stride=(1, 1))\n",
              "    (1): ReLU(inplace=True)\n",
              "    (2): Conv2d(1024, 1024, kernel_size=(3, 3), stride=(1, 1))\n",
              "    (3): ReLU(inplace=True)\n",
              "  )\n",
              "  (up_trans_1): ConvTranspose2d(1024, 512, kernel_size=(2, 2), stride=(2, 2))\n",
              "  (up_conv_1): Sequential(\n",
              "    (0): Conv2d(1024, 512, kernel_size=(3, 3), stride=(1, 1))\n",
              "    (1): ReLU(inplace=True)\n",
              "    (2): Conv2d(512, 512, kernel_size=(3, 3), stride=(1, 1))\n",
              "    (3): ReLU(inplace=True)\n",
              "  )\n",
              "  (up_trans_2): ConvTranspose2d(512, 256, kernel_size=(2, 2), stride=(2, 2))\n",
              "  (up_conv_2): Sequential(\n",
              "    (0): Conv2d(512, 256, kernel_size=(3, 3), stride=(1, 1))\n",
              "    (1): ReLU(inplace=True)\n",
              "    (2): Conv2d(256, 256, kernel_size=(3, 3), stride=(1, 1))\n",
              "    (3): ReLU(inplace=True)\n",
              "  )\n",
              "  (up_trans_3): ConvTranspose2d(256, 128, kernel_size=(2, 2), stride=(2, 2))\n",
              "  (up_conv_3): Sequential(\n",
              "    (0): Conv2d(256, 128, kernel_size=(3, 3), stride=(1, 1))\n",
              "    (1): ReLU(inplace=True)\n",
              "    (2): Conv2d(128, 128, kernel_size=(3, 3), stride=(1, 1))\n",
              "    (3): ReLU(inplace=True)\n",
              "  )\n",
              "  (up_trans_4): ConvTranspose2d(128, 64, kernel_size=(2, 2), stride=(2, 2))\n",
              "  (up_conv_4): Sequential(\n",
              "    (0): Conv2d(128, 64, kernel_size=(3, 3), stride=(1, 1))\n",
              "    (1): ReLU(inplace=True)\n",
              "    (2): Conv2d(64, 64, kernel_size=(3, 3), stride=(1, 1))\n",
              "    (3): ReLU(inplace=True)\n",
              "  )\n",
              "  (out): Conv2d(64, 32, kernel_size=(1, 1), stride=(1, 1))\n",
              ")"
            ]
          },
          "metadata": {
            "tags": []
          },
          "execution_count": 15
        }
      ]
    },
    {
      "cell_type": "code",
      "metadata": {
        "id": "92zv99wCnYqG"
      },
      "source": [
        "criterion = nn.CrossEntropyLoss()\n",
        "optimizer = optim.Adam(UNET.parameters(), lr = 0.001, betas = (0.9, 0.999), eps = 1e-08, weight_decay = 0, amsgrad = False)"
      ],
      "execution_count": 16,
      "outputs": []
    },
    {
      "cell_type": "code",
      "metadata": {
        "id": "5vV3oC95hLy-"
      },
      "source": [
        "#import os\n",
        "#os._exit(00)"
      ],
      "execution_count": null,
      "outputs": []
    },
    {
      "cell_type": "code",
      "metadata": {
        "id": "lYtGnX0KzhrU"
      },
      "source": [
        "#UNET = torch.load(os.path.join(os.getcwd(), unet20.pth))"
      ],
      "execution_count": null,
      "outputs": []
    },
    {
      "cell_type": "code",
      "metadata": {
        "id": "ie1hbAZv9nnc"
      },
      "source": [
        "train_loss = []\n",
        "val_loss = []\n",
        "epochs = 100\n",
        "for ep in range(epochs):\n",
        "  UNET.train()\n",
        "  running_loss = 0.0\n",
        "  counter = 0\n",
        "  for i, data in enumerate(train_loader):\n",
        "    inputs, labels = data\n",
        "    inputs, labels = inputs.to(device), labels.to(device)\n",
        "    if labels.size() == torch.Size([1, 1, 388, 388]):\n",
        "      labels = labels.reshape(1, 388, 388)\n",
        "    optimizer.zero_grad()\n",
        "    outputs = UNET(inputs)\n",
        "    loss = criterion(outputs, labels)\n",
        "    loss.backward()\n",
        "    optimizer.step()\n",
        "    running_loss = running_loss + loss.item()\n",
        "    counter = counter + 1\n",
        "  epoch_loss = running_loss/counter\n",
        "  print('Epoch {}/{}, {} Loss: {:.4f}'.format(ep, epochs, 'Training', epoch_loss))\n",
        "  train_loss = train_loss + [epoch_loss]\n",
        "  UNET.eval()\n",
        "  running_loss = 0.0\n",
        "  counter = 0\n",
        "  for i, data in enumerate(val_loader):\n",
        "    inputs, labels = data\n",
        "    inputs, labels = inputs.to(device), labels.to(device)\n",
        "    if labels.size() == torch.Size([1, 1, 388, 388]):\n",
        "      labels = labels.reshape(1, 388, 388)\n",
        "    optimizer.zero_grad()\n",
        "    outputs = UNET(inputs)\n",
        "    loss = criterion(outputs, labels)\n",
        "    running_loss = running_loss + loss.item()\n",
        "    counter = counter + 1\n",
        "  epoch_loss = running_loss/counter\n",
        "  print('Epoch {}/{}, {} Loss: {:.4f}'.format(ep, epochs, 'Validation', epoch_loss))\n",
        "  val_loss = val_loss + [epoch_loss]\n",
        "  if ep%10 == 0:\n",
        "    print(\"Saving Model after epoch {}\".format(ep))\n",
        "    torch.save(UNET.state_dict(), os.path.join(os.getcwd(), 'unet{}.pth'.format(ep)))"
      ],
      "execution_count": null,
      "outputs": []
    },
    {
      "cell_type": "code",
      "metadata": {
        "colab": {
          "base_uri": "https://localhost:8080/",
          "height": 281
        },
        "id": "8rWInsUY203c",
        "outputId": "4f243407-d882-47b6-92d6-0ac7e3d41fef"
      },
      "source": [
        "plt.plot(train_loss, label = 'Training')\n",
        "plt.plot(val_loss, label = 'Validation')\n",
        "plt.title(\"Loss Variation\")\n",
        "plt.legend()\n",
        "plt.show()"
      ],
      "execution_count": null,
      "outputs": [
        {
          "output_type": "display_data",
          "data": {
            "image/png": "[encoded data removed]",
            "text/plain": [
              "<Figure size 432x288 with 1 Axes>"
            ]
          },
          "metadata": {
            "tags": [],
            "needs_background": "light"
          }
        }
      ]
    },
    {
      "cell_type": "markdown",
      "metadata": {
        "id": "kbUuQ5meiueY"
      },
      "source": [
        "It turns out that overfitting had started after epoch 50. Therefore, using the weights saved at that point."
      ]
    },
    {
      "cell_type": "code",
      "metadata": {
        "colab": {
          "base_uri": "https://localhost:8080/"
        },
        "id": "v_2RsAs0iVgR",
        "outputId": "78bdb5c5-b75c-4389-ea4f-3d8663ecc275"
      },
      "source": [
        "%ls"
      ],
      "execution_count": null,
      "outputs": [
        {
          "output_type": "stream",
          "text": [
            "archive.zip  unet0.pth   unet30.pth  unet60.pth  unet90.pth\n",
            "\u001b[0m\u001b[01;34mCamVid\u001b[0m/      unet10.pth  unet40.pth  unet70.pth  unet.ipynb\n",
            "Copy.ipynb   unet20.pth  unet50.pth  unet80.pth  UNet.ipynb\n"
          ],
          "name": "stdout"
        }
      ]
    },
    {
      "cell_type": "code",
      "metadata": {
        "id": "jxehBLKljBPP"
      },
      "source": [
        "colors = np.array([[0,0,0], [111,74,0], [81,0,81], [128,64,128], [244, 35, 232]\n",
        "                   ,[250, 170, 160], [230, 150, 140], [70,70,70], [102,102, 156]\n",
        "                   , [190, 153, 153], [180, 165, 180], [150, 100, 100]\n",
        "                   , [150, 120, 90], [153, 153, 153], [250, 170, 30], [220, 220, 0]\n",
        "                   , [107, 142, 35], [152, 251, 152], [70, 130, 180], [220, 20, 60]\n",
        "                   , [255, 0, 0], [0, 0, 142], [0, 0, 70], [0, 60, 100], [0, 0, 90]\n",
        "                   , [0, 0, 110], [0, 80, 100], [0, 0, 230], [119, 11, 32], [0, 0, 142]], dtype = np.uint8)\n",
        "colors = c2g(colors, grayscale = False)"
      ],
      "execution_count": null,
      "outputs": []
    },
    {
      "cell_type": "code",
      "metadata": {
        "colab": {
          "base_uri": "https://localhost:8080/"
        },
        "id": "DP1TBIQFjYrJ",
        "outputId": "d1781c6d-6d71-4dfa-a9bf-1f2d53a2fe18"
      },
      "source": [
        "colors"
      ],
      "execution_count": null,
      "outputs": [
        {
          "output_type": "execute_result",
          "data": {
            "text/plain": [
              "[array([[[0, 0, 0]]], dtype=uint8),\n",
              " array([[[111,  74,   0]]], dtype=uint8),\n",
              " array([[[81,  0, 81]]], dtype=uint8),\n",
              " array([[[128,  64, 128]]], dtype=uint8),\n",
              " array([[[244,  35, 232]]], dtype=uint8),\n",
              " array([[[250, 170, 160]]], dtype=uint8),\n",
              " array([[[230, 150, 140]]], dtype=uint8),\n",
              " array([[[70, 70, 70]]], dtype=uint8),\n",
              " array([[[102, 102, 156]]], dtype=uint8),\n",
              " array([[[190, 153, 153]]], dtype=uint8),\n",
              " array([[[180, 165, 180]]], dtype=uint8),\n",
              " array([[[150, 100, 100]]], dtype=uint8),\n",
              " array([[[150, 120,  90]]], dtype=uint8),\n",
              " array([[[153, 153, 153]]], dtype=uint8),\n",
              " array([[[250, 170,  30]]], dtype=uint8),\n",
              " array([[[220, 220,   0]]], dtype=uint8),\n",
              " array([[[107, 142,  35]]], dtype=uint8),\n",
              " array([[[152, 251, 152]]], dtype=uint8),\n",
              " array([[[ 70, 130, 180]]], dtype=uint8),\n",
              " array([[[220,  20,  60]]], dtype=uint8),\n",
              " array([[[255,   0,   0]]], dtype=uint8),\n",
              " array([[[  0,   0, 142]]], dtype=uint8),\n",
              " array([[[ 0,  0, 70]]], dtype=uint8),\n",
              " array([[[  0,  60, 100]]], dtype=uint8),\n",
              " array([[[ 0,  0, 90]]], dtype=uint8),\n",
              " array([[[  0,   0, 110]]], dtype=uint8),\n",
              " array([[[  0,  80, 100]]], dtype=uint8),\n",
              " array([[[  0,   0, 230]]], dtype=uint8),\n",
              " array([[[119,  11,  32]]], dtype=uint8),\n",
              " array([[[  0,   0, 142]]], dtype=uint8)]"
            ]
          },
          "metadata": {
            "tags": []
          },
          "execution_count": 34
        }
      ]
    },
    {
      "cell_type": "code",
      "metadata": {
        "id": "ZEdot1ZOjY-7"
      },
      "source": [
        "def testing(image, colors):\n",
        "  class_pix = np.ones([388,388,3], dtype = np.uint8)\n",
        "  for index, c in enumerate(colors):\n",
        "    class_pix[image == index] = c\n",
        "  return class_pix.reshape((388,388,3))"
      ],
      "execution_count": null,
      "outputs": []
    },
    {
      "cell_type": "code",
      "metadata": {
        "id": "WCMPAJfxj0qW"
      },
      "source": [
        "inputs, labels = next(iter(test_loader))"
      ],
      "execution_count": null,
      "outputs": []
    },
    {
      "cell_type": "code",
      "metadata": {
        "id": "0gnnSYGkkWzj"
      },
      "source": [
        "inputs, labels = inputs.to(device), labels.to(device)"
      ],
      "execution_count": null,
      "outputs": []
    },
    {
      "cell_type": "code",
      "metadata": {
        "id": "Ckhyx_RAlBIN"
      },
      "source": [
        "UNET = UNet()"
      ],
      "execution_count": null,
      "outputs": []
    },
    {
      "cell_type": "code",
      "metadata": {
        "colab": {
          "base_uri": "https://localhost:8080/"
        },
        "id": "be_hshB-kaig",
        "outputId": "7e7ac772-4ecb-4adc-b4af-2a497f569ff4"
      },
      "source": [
        "UNET.load_state_dict(torch.load(os.path.join(os.getcwd(), 'unet50.pth')))"
      ],
      "execution_count": null,
      "outputs": [
        {
          "output_type": "execute_result",
          "data": {
            "text/plain": [
              "<All keys matched successfully>"
            ]
          },
          "metadata": {
            "tags": []
          },
          "execution_count": 51
        }
      ]
    },
    {
      "cell_type": "code",
      "metadata": {
        "id": "6UBryKq5lwCY"
      },
      "source": [
        "UNET.to(device)"
      ],
      "execution_count": null,
      "outputs": []
    },
    {
      "cell_type": "code",
      "metadata": {
        "id": "uh0nI8waknd_"
      },
      "source": [
        "outputs = UNET(inputs)"
      ],
      "execution_count": null,
      "outputs": []
    },
    {
      "cell_type": "markdown",
      "metadata": {
        "id": "PMy507xmpHkk"
      },
      "source": [
        "# Jaccard Index Metric"
      ]
    },
    {
      "cell_type": "code",
      "metadata": {
        "id": "AgLEelqFmIjM"
      },
      "source": [
        "IOUf = 0\n",
        "count = 0\n",
        "for i, data in enumerate(test_loader):\n",
        "  inputs, labels = data\n",
        "  inputs = inputs.to(device)\n",
        "  outputs = UNET(inputs)\n",
        "  outputs = outputs.cpu()\n",
        "  outputs = outputs.detach().numpy()\n",
        "  outputs = outputs.argmax(axis = 1)\n",
        "  if labels.size() == torch.Size([outputs.shape[0], 1, 388, 388]):\n",
        "    labels = labels.detach().numpy()\n",
        "    labels = labels.reshape(outputs.shape[0], 388, 388)\n",
        "  outputs = outputs.reshape(outputs.shape[0], 388, 388)\n",
        "  for k in range(outputs.shape[0]):\n",
        "    o = outputs[k, :, :]\n",
        "    l = labels[k, :, :]\n",
        "    IOU = 0\n",
        "    for c in range(32):\n",
        "      intersection = 0\n",
        "      union = 0\n",
        "      f = c * np.ones((1,388,388))\n",
        "      i = (o == c) * 1\n",
        "      j = (l == c) * 1\n",
        "      inte = 0\n",
        "      for x in range(388):\n",
        "        for y in range(388):\n",
        "          if i[x,y] == j[x,y] and i[x,y] == 1:\n",
        "            inte = inte + 1\n",
        "      intersection = intersection + inte\n",
        "      union = union + ((f == l) * 1).sum() + ((f == o) * 1).sum() - inte\n",
        "      if union == 0:\n",
        "        continue\n",
        "      IOUc = intersection/union\n",
        "      IOU = IOU + IOUc\n",
        "    count = count + 1\n",
        "    IOU = IOU/32\n",
        "  IOUf = IOUf + IOU"
      ],
      "execution_count": null,
      "outputs": []
    },
    {
      "cell_type": "code",
      "metadata": {
        "colab": {
          "base_uri": "https://localhost:8080/"
        },
        "id": "HnCXbpozl1gR",
        "outputId": "afe0cfae-143a-4838-d31a-9f86a363bedc"
      },
      "source": [
        "print(\"IoU: \", IOUf/count)"
      ],
      "execution_count": null,
      "outputs": [
        {
          "output_type": "stream",
          "text": [
            "IoU:  0.04023583756305232\n"
          ],
          "name": "stdout"
        }
      ]
    },
    {
      "cell_type": "code",
      "metadata": {
        "id": "_CbXQDXUsWbn"
      },
      "source": [
        "inputs, labels = next(iter(test_loader))"
      ],
      "execution_count": null,
      "outputs": []
    },
    {
      "cell_type": "code",
      "metadata": {
        "colab": {
          "base_uri": "https://localhost:8080/",
          "height": 323
        },
        "id": "mscQNmVlsct9",
        "outputId": "458cea2a-ab2d-4e01-8f24-82a94c67e3bd"
      },
      "source": [
        "plt.imshow(ndimage.rotate(np.squeeze(inputs.numpy()).transpose(2,1,0), 270), cmap = 'gray')"
      ],
      "execution_count": null,
      "outputs": [
        {
          "output_type": "stream",
          "text": [
            "Clipping input data to the valid range for imshow with RGB data ([0..1] for floats or [0..255] for integers).\n"
          ],
          "name": "stderr"
        },
        {
          "output_type": "execute_result",
          "data": {
            "text/plain": [
              "<matplotlib.image.AxesImage at 0x7ff1787241d0>"
            ]
          },
          "metadata": {
            "tags": []
          },
          "execution_count": 122
        },
        {
          "output_type": "display_data",
          "data": {
            "image/png": "[encoded data removed]",
            "text/plain": [
              "<Figure size 432x288 with 1 Axes>"
            ]
          },
          "metadata": {
            "tags": [],
            "needs_background": "light"
          }
        }
      ]
    },
    {
      "cell_type": "code",
      "metadata": {
        "id": "xypuMp6otCEx"
      },
      "source": [
        "inputs = inputs.to(device)\n",
        "outputs = UNET(inputs)"
      ],
      "execution_count": null,
      "outputs": []
    },
    {
      "cell_type": "code",
      "metadata": {
        "id": "RCJiAhZotFfT"
      },
      "source": [
        "outputs = outputs.cpu()\n",
        "outputs = outputs.detach().numpy()\n",
        "outputs = outputs.argmax(axis = 1)"
      ],
      "execution_count": null,
      "outputs": []
    },
    {
      "cell_type": "code",
      "metadata": {
        "colab": {
          "base_uri": "https://localhost:8080/",
          "height": 286
        },
        "id": "OeaG7STrtORq",
        "outputId": "3d78ebcf-ef23-408e-abe0-6c1875f6eab9"
      },
      "source": [
        "plt.imshow(outputs[0])"
      ],
      "execution_count": null,
      "outputs": [
        {
          "output_type": "execute_result",
          "data": {
            "text/plain": [
              "<matplotlib.image.AxesImage at 0x7ff280fdbeb8>"
            ]
          },
          "metadata": {
            "tags": []
          },
          "execution_count": 125
        },
        {
          "output_type": "display_data",
          "data": {
            "image/png": "[encoded data removed]",
            "text/plain": [
              "<Figure size 432x288 with 1 Axes>"
            ]
          },
          "metadata": {
            "tags": [],
            "needs_background": "light"
          }
        }
      ]
    },
    {
      "cell_type": "code",
      "metadata": {
        "id": "XIXRSA8csHo5"
      },
      "source": [
        ""
      ],
      "execution_count": null,
      "outputs": []
    }
  ]
}